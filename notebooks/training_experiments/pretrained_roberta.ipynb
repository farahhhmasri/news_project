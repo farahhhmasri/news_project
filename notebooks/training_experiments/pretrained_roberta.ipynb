{
 "cells": [
  {
   "cell_type": "code",
   "execution_count": null,
   "id": "6acb45b8",
   "metadata": {},
   "outputs": [],
   "source": [
    "import kagglehub\n",
    "import pandas as pd\n",
    "import numpy as np\n",
    "import matplotlib.pyplot as plt\n",
    "import seaborn as sns\n",
    "from sklearn.metrics import classification_report\n",
    "from transformers import AutoTokenizer, AutoModelForSequenceClassification\n",
    "from scipy.special import softmax\n",
    "from tqdm import tqdm\n",
    "import mlflow \n",
    "import re\n",
    "import os\n",
    "import shutil"
   ]
  },
  {
   "cell_type": "code",
   "execution_count": 10,
   "id": "32c01162",
   "metadata": {},
   "outputs": [],
   "source": [
    "mlflow.set_tracking_uri(uri=\"http://localhost:8080\")"
   ]
  },
  {
   "cell_type": "markdown",
   "id": "f9ad31b1",
   "metadata": {},
   "source": [
    "# Loading Data"
   ]
  },
  {
   "cell_type": "code",
   "execution_count": null,
   "id": "a25f4eab",
   "metadata": {},
   "outputs": [
    {
     "data": {
      "text/html": [
       "<div>\n",
       "<style scoped>\n",
       "    .dataframe tbody tr th:only-of-type {\n",
       "        vertical-align: middle;\n",
       "    }\n",
       "\n",
       "    .dataframe tbody tr th {\n",
       "        vertical-align: top;\n",
       "    }\n",
       "\n",
       "    .dataframe thead th {\n",
       "        text-align: right;\n",
       "    }\n",
       "</style>\n",
       "<table border=\"1\" class=\"dataframe\">\n",
       "  <thead>\n",
       "    <tr style=\"text-align: right;\">\n",
       "      <th></th>\n",
       "      <th>date</th>\n",
       "      <th>news</th>\n",
       "      <th>neg</th>\n",
       "      <th>neu</th>\n",
       "      <th>pos</th>\n",
       "      <th>compound</th>\n",
       "      <th>sentiment</th>\n",
       "    </tr>\n",
       "  </thead>\n",
       "  <tbody>\n",
       "    <tr>\n",
       "      <th>0</th>\n",
       "      <td>2007-07-07</td>\n",
       "      <td>It was a long antipodean night. While there’s ...</td>\n",
       "      <td>0.059</td>\n",
       "      <td>0.878</td>\n",
       "      <td>0.064</td>\n",
       "      <td>0.0516</td>\n",
       "      <td>POSITIVE</td>\n",
       "    </tr>\n",
       "    <tr>\n",
       "      <th>1</th>\n",
       "      <td>2007-07-07</td>\n",
       "      <td>In Mexico there are no licensing or registrati...</td>\n",
       "      <td>0.044</td>\n",
       "      <td>0.956</td>\n",
       "      <td>0.000</td>\n",
       "      <td>-0.2960</td>\n",
       "      <td>NEGATIVE</td>\n",
       "    </tr>\n",
       "    <tr>\n",
       "      <th>2</th>\n",
       "      <td>2007-07-07</td>\n",
       "      <td>The government has until Monday to protect the...</td>\n",
       "      <td>0.000</td>\n",
       "      <td>0.894</td>\n",
       "      <td>0.106</td>\n",
       "      <td>0.3818</td>\n",
       "      <td>POSITIVE</td>\n",
       "    </tr>\n",
       "  </tbody>\n",
       "</table>\n",
       "</div>"
      ],
      "text/plain": [
       "         date                                               news    neg  \\\n",
       "0  2007-07-07  It was a long antipodean night. While there’s ...  0.059   \n",
       "1  2007-07-07  In Mexico there are no licensing or registrati...  0.044   \n",
       "2  2007-07-07  The government has until Monday to protect the...  0.000   \n",
       "\n",
       "     neu    pos  compound sentiment  \n",
       "0  0.878  0.064    0.0516  POSITIVE  \n",
       "1  0.956  0.000   -0.2960  NEGATIVE  \n",
       "2  0.894  0.106    0.3818  POSITIVE  "
      ]
     },
     "execution_count": 7,
     "metadata": {},
     "output_type": "execute_result"
    }
   ],
   "source": [
    "try:\n",
    "    if 'dataset' not in os.listdir(\"../\"):\n",
    "        print(\"Dataset doesn't exist, downloading it...\")\n",
    "        os.makedirs('../dataset/', exist_ok=True)\n",
    "        path = kagglehub.dataset_download(\"myrios/news-sentiment-analysis\")\n",
    "        print(f\"Dataset original path: {path}\")\n",
    "        shutil.move(path, '../dataset/')\n",
    "        path = \"dataset/news.csv\"\n",
    "        print(\"Dataset was downloaded and put in dataset/ directory.\")\n",
    "    else:\n",
    "        path = \"../dataset/news.csv\"\n",
    "        print(\"Loading news dataset... \")\n",
    "        print(f\"Dataset path: {path}\")\n",
    "        \n",
    "    \n",
    "except Exception as e :\n",
    "    print(f\"Dataset loading error: {e}\")\n",
    "\n",
    "\n",
    "df = pd.read_csv(f\"{path}\")\n",
    "df.head(3)"
   ]
  },
  {
   "cell_type": "code",
   "execution_count": 11,
   "id": "d62ac892",
   "metadata": {
    "collapsed": true
   },
   "outputs": [],
   "source": [
    "MODEL = f\"cardiffnlp/twitter-roberta-base-sentiment\"\n",
    "tokenizer = AutoTokenizer.from_pretrained(MODEL)\n",
    "model = AutoModelForSequenceClassification.from_pretrained(MODEL)"
   ]
  },
  {
   "cell_type": "code",
   "execution_count": 16,
   "id": "ff7d5064",
   "metadata": {},
   "outputs": [],
   "source": [
    "def clean_text(text):\n",
    "    if text[0] == 'b':\n",
    "        text= text[1:]\n",
    "    if text[0] == '\"' or text[0] == \"'\":\n",
    "        text = text[1:len(text)-1]  \n",
    "    text = re.sub(r'\\\\+', r'\\\\', text)\n",
    "    text = re.sub(r'(?<!\\d)\\\\(?!\\d)', '', text)\n",
    "    return text"
   ]
  },
  {
   "cell_type": "code",
   "execution_count": 17,
   "id": "beb156d1",
   "metadata": {},
   "outputs": [],
   "source": [
    "def polarity_scores_roberta(text, date, year):\n",
    "    encoded_text = tokenizer(text, return_tensors='pt')\n",
    "    output = model(**encoded_text)\n",
    "    scores = output[0][0].detach().numpy()\n",
    "    scores = softmax(scores)\n",
    "    sentiment_score = scores[2] - scores[0] + 0.5 * scores[1]\n",
    "    scores_dict = {\n",
    "        'neg' : scores[0],\n",
    "        'neu' : scores[1],\n",
    "        'pos' : scores[2],\n",
    "        'sentiment_score' : sentiment_score,\n",
    "        'date': date,\n",
    "        'score': (sentiment_score) * 5 + (1 / (2025 - year + 1)) * 10\n",
    "    }\n",
    "    return scores_dict"
   ]
  },
  {
   "cell_type": "code",
   "execution_count": 18,
   "id": "60704499",
   "metadata": {},
   "outputs": [],
   "source": [
    "def get_predictions(df):\n",
    "    res = {}\n",
    "    for i, row in tqdm(df.iterrows(), total=len(df)):\n",
    "        try:\n",
    "            text = clean_text(row['news'])\n",
    "            myid = row['id']\n",
    "            date = row['date']\n",
    "            year = pd.to_datetime(row['date']).year\n",
    "            result = polarity_scores_roberta(text, date, year)\n",
    "            res[myid] = result\n",
    "        except RuntimeError:\n",
    "            print(f'Issue when handling news with id: {myid}')\n",
    "    return res"
   ]
  },
  {
   "cell_type": "code",
   "execution_count": 19,
   "id": "186fb8f0",
   "metadata": {},
   "outputs": [
    {
     "name": "stderr",
     "output_type": "stream",
     "text": [
      "100%|██████████| 100000/100000 [2:10:13<00:00, 12.80it/s] \n"
     ]
    }
   ],
   "source": [
    "### Testing the model\n",
    "sample = df.sample(100000, random_state=0)\n",
    "input_df = sample[['date','news']].reset_index(names='id')\n",
    "predictions = get_predictions(input_df)"
   ]
  },
  {
   "cell_type": "code",
   "execution_count": 20,
   "id": "4efedaa5",
   "metadata": {},
   "outputs": [
    {
     "name": "stdout",
     "output_type": "stream",
     "text": [
      "              precision    recall  f1-score   support\n",
      "\n",
      "    NEGATIVE       0.82      0.44      0.57     50755\n",
      "    POSITIVE       0.61      0.90      0.73     49245\n",
      "\n",
      "    accuracy                           0.67    100000\n",
      "   macro avg       0.72      0.67      0.65    100000\n",
      "weighted avg       0.72      0.67      0.65    100000\n",
      "\n"
     ]
    }
   ],
   "source": [
    "predicted_labels = []\n",
    "for news_id in predictions:\n",
    "    score = predictions.get(news_id).get('score', 0)\n",
    "    label = lambda x : 'POSITIVE' if x > 0 else 'NEGATIVE'\n",
    "    predicted_labels.append(label(score))\n",
    "    \n",
    "y_pred = predicted_labels\n",
    "y_true = sample['sentiment']\n",
    "report = classification_report(y_true, y_pred, target_names=['NEGATIVE', 'POSITIVE'])\n",
    "print(report)"
   ]
  },
  {
   "cell_type": "code",
   "execution_count": 21,
   "id": "cad9afa8",
   "metadata": {},
   "outputs": [],
   "source": [
    "report_dict = classification_report(y_true, y_pred, target_names=['NEGATIVE', 'POSITIVE'], output_dict=True)\n",
    "metrics = {\n",
    "    \"accuracy\": report_dict[\"accuracy\"],\n",
    "    \"precision\": report_dict[\"macro avg\"][\"precision\"],\n",
    "    \"recall\": report_dict[\"macro avg\"][\"recall\"],\n",
    "    \"f1_score\": report_dict[\"macro avg\"][\"f1-score\"],\n",
    "}"
   ]
  },
  {
   "cell_type": "code",
   "execution_count": 22,
   "id": "3a9cbdb8",
   "metadata": {},
   "outputs": [
    {
     "name": "stderr",
     "output_type": "stream",
     "text": [
      "2025/03/05 00:49:13 INFO mlflow.tracking.fluent: Experiment with name 'Roberta Model' does not exist. Creating a new experiment.\n"
     ]
    },
    {
     "name": "stdout",
     "output_type": "stream",
     "text": [
      "🏃 View run overjoyed-mink-547 at: http://localhost:8080/#/experiments/518030901394168194/runs/20022f9dba95446e86cacafab222a81f\n",
      "🧪 View experiment at: http://localhost:8080/#/experiments/518030901394168194\n"
     ]
    }
   ],
   "source": [
    "mlflow.set_experiment(\"Roberta Model\")\n",
    "\n",
    "with mlflow.start_run():\n",
    "    mlflow.set_tag(\"Model Name\", \"cardiffnlp/twitter-roberta-base-sentiment\")\n",
    "    mlflow.log_metrics(metrics) \n",
    "    mlflow.log_dict(report_dict, \"classification_report.json\")"
   ]
  },
  {
   "cell_type": "markdown",
   "id": "cd29eec1",
   "metadata": {},
   "source": [
    "# Save Model"
   ]
  },
  {
   "cell_type": "code",
   "execution_count": null,
   "id": "6edae08f",
   "metadata": {},
   "outputs": [],
   "source": [
    "# save_path = \"prediction_model/roberta_model\"\n",
    "# tokenizer.save_pretrained(save_path)\n",
    "# model.save_pretrained(save_path)"
   ]
  },
  {
   "cell_type": "markdown",
   "id": "a1f7b2ed",
   "metadata": {},
   "source": [
    "# Load Model"
   ]
  },
  {
   "cell_type": "code",
   "execution_count": null,
   "id": "8f1f8cd7",
   "metadata": {},
   "outputs": [],
   "source": [
    "# save_path = \"prediction_model/roberta_model\"\n",
    "# tokenizer = AutoTokenizer.from_pretrained(save_path)\n",
    "# model = AutoModelForSequenceClassification.from_pretrained(save_path)"
   ]
  }
 ],
 "metadata": {
  "kernelspec": {
   "display_name": "venv",
   "language": "python",
   "name": "python3"
  },
  "language_info": {
   "codemirror_mode": {
    "name": "ipython",
    "version": 3
   },
   "file_extension": ".py",
   "mimetype": "text/x-python",
   "name": "python",
   "nbconvert_exporter": "python",
   "pygments_lexer": "ipython3",
   "version": "3.12.4"
  }
 },
 "nbformat": 4,
 "nbformat_minor": 5
}
